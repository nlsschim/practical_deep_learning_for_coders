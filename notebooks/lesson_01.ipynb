{
 "cells": [
  {
   "cell_type": "code",
   "execution_count": 167,
   "metadata": {},
   "outputs": [],
   "source": [
    "import os\n",
    "import torch\n",
    "import fastai\n",
    "import azureml\n",
    "import azureml.core\n",
    "from azureml.core import Dataset, Run, Datastore, Workspace\n",
    "import pandas as pd\n",
    "import numpy as np\n",
    "from diff_classifier import features\n",
    "import matplotlib.pyplot as plt"
   ]
  },
  {
   "cell_type": "code",
   "execution_count": 9,
   "metadata": {},
   "outputs": [],
   "source": [
    "# for local debugging\n",
    "subscription_id = '9c49afdd-cccb-44e2-a4eb-5b2f941c774c'\n",
    "resource_group = 'schimek_cloud'\n",
    "workspace_name = 'nels_east_us'\n",
    "\n",
    "workspace = azureml.core.Workspace(subscription_id, resource_group, workspace_name)"
   ]
  },
  {
   "cell_type": "code",
   "execution_count": 10,
   "metadata": {},
   "outputs": [],
   "source": [
    "datastore = Datastore.get(workspace, 'workspaceblobstore')\n",
    "file_dataset = Dataset.File.from_files(path=(datastore, 'UI/2023-04-21_000140_UTC/'))"
   ]
  },
  {
   "cell_type": "code",
   "execution_count": 11,
   "metadata": {},
   "outputs": [],
   "source": [
    "dataset = file_dataset.register(workspace = workspace, name = 'mpt_training_data', create_new_version=True)"
   ]
  },
  {
   "cell_type": "code",
   "execution_count": 12,
   "metadata": {},
   "outputs": [
    {
     "data": {
      "text/plain": [
       "['/mnt/batch/tasks/shared/LS_root/mounts/clusters/nlsschim1/code/Users/nlsschim/practical_deep_learning_for_coders/notebooks/msd_P14_40nm_s1_v1.csv',\n",
       " '/mnt/batch/tasks/shared/LS_root/mounts/clusters/nlsschim1/code/Users/nlsschim/practical_deep_learning_for_coders/notebooks/msd_P14_40nm_s1_v2.csv',\n",
       " '/mnt/batch/tasks/shared/LS_root/mounts/clusters/nlsschim1/code/Users/nlsschim/practical_deep_learning_for_coders/notebooks/msd_P14_40nm_s1_v3.csv']"
      ]
     },
     "execution_count": 12,
     "metadata": {},
     "output_type": "execute_result"
    }
   ],
   "source": [
    "dataset = Dataset.get_by_name(workspace, name='mpt_training_data')\n",
    "dataset.download(target_path='.', overwrite=True)"
   ]
  },
  {
   "cell_type": "code",
   "execution_count": 18,
   "metadata": {},
   "outputs": [
    {
     "data": {
      "text/html": [
       "<div>\n",
       "<style scoped>\n",
       "    .dataframe tbody tr th:only-of-type {\n",
       "        vertical-align: middle;\n",
       "    }\n",
       "\n",
       "    .dataframe tbody tr th {\n",
       "        vertical-align: top;\n",
       "    }\n",
       "\n",
       "    .dataframe thead th {\n",
       "        text-align: right;\n",
       "    }\n",
       "</style>\n",
       "<table border=\"1\" class=\"dataframe\">\n",
       "  <thead>\n",
       "    <tr style=\"text-align: right;\">\n",
       "      <th></th>\n",
       "      <th>Unnamed: 0</th>\n",
       "      <th>Frame</th>\n",
       "      <th>Track_ID</th>\n",
       "      <th>X</th>\n",
       "      <th>Y</th>\n",
       "      <th>MSDs</th>\n",
       "      <th>Gauss</th>\n",
       "      <th>Quality</th>\n",
       "      <th>SN_Ratio</th>\n",
       "      <th>Mean_Intensity</th>\n",
       "    </tr>\n",
       "  </thead>\n",
       "  <tbody>\n",
       "    <tr>\n",
       "      <th>0</th>\n",
       "      <td>0</td>\n",
       "      <td>0.0</td>\n",
       "      <td>0.0</td>\n",
       "      <td>NaN</td>\n",
       "      <td>NaN</td>\n",
       "      <td>0.000000</td>\n",
       "      <td>0.000000</td>\n",
       "      <td>NaN</td>\n",
       "      <td>NaN</td>\n",
       "      <td>NaN</td>\n",
       "    </tr>\n",
       "    <tr>\n",
       "      <th>1</th>\n",
       "      <td>1</td>\n",
       "      <td>1.0</td>\n",
       "      <td>0.0</td>\n",
       "      <td>NaN</td>\n",
       "      <td>NaN</td>\n",
       "      <td>221.940562</td>\n",
       "      <td>0.945131</td>\n",
       "      <td>NaN</td>\n",
       "      <td>NaN</td>\n",
       "      <td>NaN</td>\n",
       "    </tr>\n",
       "    <tr>\n",
       "      <th>2</th>\n",
       "      <td>2</td>\n",
       "      <td>2.0</td>\n",
       "      <td>0.0</td>\n",
       "      <td>NaN</td>\n",
       "      <td>NaN</td>\n",
       "      <td>395.453323</td>\n",
       "      <td>0.604359</td>\n",
       "      <td>NaN</td>\n",
       "      <td>NaN</td>\n",
       "      <td>NaN</td>\n",
       "    </tr>\n",
       "    <tr>\n",
       "      <th>3</th>\n",
       "      <td>3</td>\n",
       "      <td>3.0</td>\n",
       "      <td>0.0</td>\n",
       "      <td>NaN</td>\n",
       "      <td>NaN</td>\n",
       "      <td>530.226501</td>\n",
       "      <td>0.588696</td>\n",
       "      <td>NaN</td>\n",
       "      <td>NaN</td>\n",
       "      <td>NaN</td>\n",
       "    </tr>\n",
       "    <tr>\n",
       "      <th>4</th>\n",
       "      <td>4</td>\n",
       "      <td>4.0</td>\n",
       "      <td>0.0</td>\n",
       "      <td>NaN</td>\n",
       "      <td>NaN</td>\n",
       "      <td>627.000852</td>\n",
       "      <td>0.457320</td>\n",
       "      <td>NaN</td>\n",
       "      <td>NaN</td>\n",
       "      <td>NaN</td>\n",
       "    </tr>\n",
       "  </tbody>\n",
       "</table>\n",
       "</div>"
      ],
      "text/plain": [
       "   Unnamed: 0  Frame  Track_ID   X   Y        MSDs     Gauss  Quality   \n",
       "0           0    0.0       0.0 NaN NaN    0.000000  0.000000      NaN  \\\n",
       "1           1    1.0       0.0 NaN NaN  221.940562  0.945131      NaN   \n",
       "2           2    2.0       0.0 NaN NaN  395.453323  0.604359      NaN   \n",
       "3           3    3.0       0.0 NaN NaN  530.226501  0.588696      NaN   \n",
       "4           4    4.0       0.0 NaN NaN  627.000852  0.457320      NaN   \n",
       "\n",
       "   SN_Ratio  Mean_Intensity  \n",
       "0       NaN             NaN  \n",
       "1       NaN             NaN  \n",
       "2       NaN             NaN  \n",
       "3       NaN             NaN  \n",
       "4       NaN             NaN  "
      ]
     },
     "execution_count": 18,
     "metadata": {},
     "output_type": "execute_result"
    }
   ],
   "source": [
    "df_1 = pd.read_csv('msd_p14_40nm_s1_v1.csv')\n",
    "df_1.head()"
   ]
  },
  {
   "cell_type": "code",
   "execution_count": 173,
   "metadata": {},
   "outputs": [],
   "source": [
    "def make_new_dataset(csv, track_id_col, output_dir):\n",
    "\n",
    "    labels = {}\n",
    "    track_ids = []\n",
    "    file_name = csv\n",
    "    df = pd.read_csv(csv)\n",
    "    for track_id in df[track_id_col].unique():\n",
    "        label = file_name[:-4] + f'_track_{int(track_id)}.npy'\n",
    "        comp_track = features.unmask_track(df[df['Track_ID']==track_id])\n",
    "        if len(comp_track['X']) >= 10:\n",
    "            alpha, dcoef = features.alpha_calc(comp_track)\n",
    "            if dcoef > 0 and dcoef < 20:\n",
    "                track_data = comp_track[['X', 'Y']]\n",
    "                labels[str(label)] = dcoef\n",
    "                track_ids.append(str(label))\n",
    "                test_array = np.array(track_data)\n",
    "                new_shape = (651, 2)\n",
    "                pad_width = [(0, new_shape[i] - test_array.shape[i]) for i in range(len(new_shape))]\n",
    "                out_array = np.pad(test_array, pad_width, mode='constant')\n",
    "                #np.save(output_dir + str(label), out_array)\n",
    "    labels = pd.DataFrame.from_dict(labels, orient='index', columns=['dcoef'])\n",
    "    return labels\n"
   ]
  },
  {
   "cell_type": "code",
   "execution_count": 174,
   "metadata": {},
   "outputs": [],
   "source": [
    "labels = make_new_dataset('msd_p14_40nm_s1_v1.csv', 'Track_ID', 'training_data/')"
   ]
  },
  {
   "cell_type": "code",
   "execution_count": 175,
   "metadata": {},
   "outputs": [],
   "source": [
    "labels.to_csv('training_data/labels.csv')"
   ]
  },
  {
   "cell_type": "code",
   "execution_count": 176,
   "metadata": {},
   "outputs": [
    {
     "name": "stdout",
     "output_type": "stream",
     "text": [
      "msd_p14_40nm_s1_v1_track_1.npy\n",
      "1.6117280148626445\n"
     ]
    }
   ],
   "source": [
    "traj_labels = pd.read_csv('training_data/labels.csv')\n",
    "print(traj_labels.iloc[0, 0])\n",
    "print(traj_labels.iloc[0, 1])"
   ]
  },
  {
   "cell_type": "code",
   "execution_count": 177,
   "metadata": {},
   "outputs": [],
   "source": [
    "class MptDataset(Dataset):\n",
    "    def __init__(self, annotations_file, traj_dir, transform=None, target_transform=None):\n",
    "        self.traj_labels = pd.read_csv(annotations_file)\n",
    "        self.traj_dir = traj_dir\n",
    "        self.transform = transform # for future use maybe?\n",
    "        self.target_transform = target_transform\n",
    "    \n",
    "    def __len__(self):\n",
    "        return len(self.traj_labels)\n",
    "    \n",
    "    def __getitem__(self, idx):\n",
    "        traj_path = os.path.join(self.traj_dir, self.traj_labels.iloc[idx, 0])\n",
    "        traj = np.load(traj_path)\n",
    "        label = self.traj_labels.iloc[idx, 1]\n",
    "       \n",
    "        return traj, label"
   ]
  },
  {
   "cell_type": "code",
   "execution_count": 179,
   "metadata": {},
   "outputs": [],
   "source": [
    "from torch.utils.data import DataLoader\n",
    "train_dataloader = DataLoader(MptDataset('training_data/labels.csv', 'training_data/'), batch_size=64, shuffle=True, num_workers=4)"
   ]
  },
  {
   "cell_type": "code",
   "execution_count": 180,
   "metadata": {},
   "outputs": [
    {
     "name": "stdout",
     "output_type": "stream",
     "text": [
      "Feature batch shape: torch.Size([64, 651, 2])\n",
      "Labels batch shape: torch.Size([64])\n"
     ]
    }
   ],
   "source": [
    "train_features, train_labels = next(iter(train_dataloader))\n",
    "print(f\"Feature batch shape: {train_features.size()}\")\n",
    "print(f\"Labels batch shape: {train_labels.size()}\")"
   ]
  },
  {
   "cell_type": "code",
   "execution_count": 181,
   "metadata": {},
   "outputs": [
    {
     "data": {
      "text/plain": [
       "(array([14.,  6.,  8.,  1.,  5.,  7.,  5.,  4.,  8.,  6.]),\n",
       " array([7.44710107e-07, 1.94879044e+00, 3.89758013e+00, 5.84636982e+00,\n",
       "        7.79515951e+00, 9.74394920e+00, 1.16927389e+01, 1.36415286e+01,\n",
       "        1.55903183e+01, 1.75391080e+01, 1.94878977e+01]),\n",
       " <BarContainer object of 10 artists>)"
      ]
     },
     "execution_count": 181,
     "metadata": {},
     "output_type": "execute_result"
    },
    {
     "data": {
      "image/png": "[encoded data removed]",
      "text/plain": [
       "<Figure size 640x480 with 1 Axes>"
      ]
     },
     "metadata": {},
     "output_type": "display_data"
    }
   ],
   "source": [
    "plt.hist(train_labels)"
   ]
  },
  {
   "cell_type": "code",
   "execution_count": 187,
   "metadata": {},
   "outputs": [
    {
     "name": "stdout",
     "output_type": "stream",
     "text": [
      "MyModel(\n",
      "  (conv1): Conv1d(2, 32, kernel_size=(2,), stride=(1,), padding=(1,))\n",
      "  (bn1): BatchNorm1d(32, eps=1e-05, momentum=0.1, affine=True, track_running_stats=True)\n",
      "  (relu): ReLU()\n",
      "  (pool): AdaptiveMaxPool1d(output_size=1)\n",
      "  (fc1): Linear(in_features=32, out_features=512, bias=True)\n",
      "  (fc2): Linear(in_features=512, out_features=256, bias=True)\n",
      "  (fc3): Linear(in_features=256, out_features=1, bias=True)\n",
      "  (sigmoid): Sigmoid()\n",
      ")\n"
     ]
    }
   ],
   "source": [
    "import torch\n",
    "import torch.nn as nn\n",
    "import torch.optim as optim\n",
    "\n",
    "batch_size = 8\n",
    "T = [50, 51]\n",
    "steps = 1000\n",
    "initializer = nn.init.kaiming_normal_\n",
    "f = 32\n",
    "sigma = 0.1\n",
    "\n",
    "class MyModel(nn.Module):\n",
    "    def __init__(self):\n",
    "        super(MyModel, self).__init__()\n",
    "        self.conv1 = nn.Conv1d(2, f, kernel_size=2, padding=1)\n",
    "        self.bn1 = nn.BatchNorm1d(f)\n",
    "        self.relu = nn.ReLU()\n",
    "        self.pool = nn.AdaptiveMaxPool1d(1)\n",
    "        self.fc1 = nn.Linear(f, 512)\n",
    "        self.fc2 = nn.Linear(512, 256)\n",
    "        self.fc3 = nn.Linear(256, 1)\n",
    "        self.sigmoid = nn.Sigmoid()\n",
    "\n",
    "    def forward(self, x):\n",
    "        x = x.double() # convert input tensor to double precision\n",
    "        x = x.permute(0, 2, 1) # transpose input tensor to shape (batch_size, num_channels, seq_length)\n",
    "        x = self.conv1(x)\n",
    "        x = self.bn1(x)\n",
    "        x = self.relu(x)\n",
    "        x = self.pool(x)\n",
    "        x = x.view(-1, f)\n",
    "        x = self.fc1(x)\n",
    "        x = self.relu(x)\n",
    "        x = self.fc2(x)\n",
    "        x = self.relu(x)\n",
    "        x = self.fc3(x)\n",
    "        x = self.sigmoid(x)\n",
    "        return x\n",
    "\n",
    "model = MyModel()\n",
    "\n",
    "optimizer = optim.Adam(model.parameters(), lr=1e-2)\n",
    "criterion = nn.MSELoss()\n",
    "\n",
    "print(model)\n"
   ]
  },
  {
   "cell_type": "code",
   "execution_count": 188,
   "metadata": {},
   "outputs": [
    {
     "name": "stdout",
     "output_type": "stream",
     "text": [
      "Validation MSE:  85.96506982708367\n",
      "Validation MSE:  87.95207896397748\n",
      "Validation MSE:  78.85719818566828\n",
      "Validation MSE:  82.6691163122269\n",
      "Validation MSE:  86.5439929280589\n",
      "Validation MSE:  75.72652240371552\n",
      "Validation MSE:  79.86037870453869\n",
      "Validation MSE:  84.92673266116365\n",
      "Validation MSE:  82.33811533756857\n",
      "Validation MSE:  87.67294022459212\n",
      "Validation MSE:  75.9464778895719\n",
      "Validation MSE:  75.58248238023815\n",
      "Validation MSE:  76.21505287109056\n",
      "Validation MSE:  82.72805426497948\n",
      "Validation MSE:  78.62132392016582\n",
      "Validation MSE:  88.52145274411497\n",
      "Validation MSE:  85.53799822985188\n",
      "Validation MSE:  81.01623624959133\n",
      "Validation MSE:  85.85235280305955\n",
      "Validation MSE:  85.86733935394682\n",
      "Validation MSE:  81.49779215490237\n",
      "Validation MSE:  81.29868251661412\n",
      "Validation MSE:  90.69033956870665\n",
      "Validation MSE:  74.85567532291583\n",
      "Validation MSE:  86.88352931322827\n",
      "Validation MSE:  82.67492520950235\n",
      "Validation MSE:  77.71093941578333\n",
      "Validation MSE:  86.84041418011185\n",
      "Validation MSE:  82.93622160557216\n",
      "Validation MSE:  78.93080572031978\n",
      "Validation MSE:  81.70171645981225\n",
      "Validation MSE:  79.30363031919265\n",
      "Validation MSE:  83.93743772180154\n",
      "Validation MSE:  82.07266190216798\n",
      "Validation MSE:  83.32014288209348\n",
      "Validation MSE:  79.17110422011126\n",
      "Validation MSE:  86.47592416613544\n",
      "Validation MSE:  83.02998416295777\n",
      "Validation MSE:  87.41107259824857\n",
      "Validation MSE:  80.80884354789366\n",
      "Validation MSE:  82.41280118295533\n",
      "Validation MSE:  81.06380132117609\n",
      "Validation MSE:  77.77593831292366\n",
      "Validation MSE:  83.48786463641046\n",
      "Validation MSE:  85.35343182815559\n",
      "Validation MSE:  83.92890640574147\n",
      "Validation MSE:  81.928483490704\n",
      "Validation MSE:  83.84539074699676\n",
      "Validation MSE:  84.04540199142136\n",
      "Validation MSE:  87.39201264982164\n",
      "Validation MSE:  82.0010937571971\n",
      "Validation MSE:  87.66281447641369\n",
      "Validation MSE:  80.14869648375613\n",
      "Validation MSE:  87.205498052761\n",
      "Validation MSE:  83.50288328238189\n",
      "Validation MSE:  84.31286669226841\n",
      "Validation MSE:  84.58772065641\n",
      "Validation MSE:  79.84205097318811\n",
      "Validation MSE:  83.64779300913233\n",
      "Validation MSE:  80.41962116067394\n",
      "Validation MSE:  83.38210218970026\n",
      "Validation MSE:  78.16543688138015\n",
      "Validation MSE:  82.9935547165594\n",
      "Validation MSE:  77.89983176578114\n",
      "Validation MSE:  80.3376669880983\n",
      "Validation MSE:  81.04268258083077\n",
      "Validation MSE:  81.43449851660385\n",
      "Validation MSE:  80.05858819570832\n",
      "Validation MSE:  85.59511984396097\n",
      "Validation MSE:  78.35444276807043\n",
      "Validation MSE:  81.07744004279202\n",
      "Validation MSE:  80.53496662683017\n",
      "Validation MSE:  77.67660382970264\n",
      "Validation MSE:  86.09215367725754\n",
      "Validation MSE:  81.00710183778266\n",
      "Validation MSE:  83.28913885716118\n",
      "Validation MSE:  85.07588710562946\n",
      "Validation MSE:  75.19897246793396\n",
      "Validation MSE:  86.79597604456886\n",
      "Validation MSE:  79.11845473896902\n",
      "Validation MSE:  85.88767715243178\n",
      "Validation MSE:  84.03765685308973\n",
      "Validation MSE:  82.02501662784611\n",
      "Validation MSE:  79.83528652883244\n",
      "Validation MSE:  83.52797734058741\n",
      "Validation MSE:  83.57322699710461\n",
      "Validation MSE:  78.00581253013097\n",
      "Validation MSE:  88.7241722115931\n",
      "Validation MSE:  88.79488183253896\n",
      "Validation MSE:  80.2537022901551\n",
      "Validation MSE:  82.3589223605828\n",
      "Validation MSE:  76.84766687308826\n",
      "Validation MSE:  83.24935507141767\n",
      "Validation MSE:  89.59913945759513\n",
      "Validation MSE:  89.94943528524334\n",
      "Validation MSE:  81.19200273622427\n",
      "Validation MSE:  81.38060866550151\n",
      "Validation MSE:  80.04803113177623\n",
      "Validation MSE:  80.18642450916893\n",
      "Validation MSE:  89.28049249827724\n"
     ]
    }
   ],
   "source": [
    "num_epochs = 100\n",
    "model = model.double() # convert model to double precision\n",
    "\n",
    "for epoch in range(num_epochs):\n",
    "    running_loss = 0.0\n",
    "    for i, data in enumerate(train_dataloader, 0):\n",
    "        inputs, labels = data\n",
    "        inputs = inputs.double() # convert inputs to double precision\n",
    "        labels = labels.double() # convert labels to double precision\n",
    "        \n",
    "        optimizer.zero_grad()\n",
    "        \n",
    "        outputs = model(inputs)\n",
    "\n",
    "           # Reshape the target tensor if necessary\n",
    "        if labels.shape != outputs.shape:\n",
    "            labels = labels.view(-1, 1)\n",
    "\n",
    "        loss = criterion(outputs, labels)\n",
    "        loss.backward()\n",
    "        optimizer.step()\n",
    "\n",
    "        running_loss += loss.item()\n",
    "        if i % 100 == 99:    # print every 100 mini-batches\n",
    "            print('[%d, %5d] loss: %.3f' %\n",
    "                  (epoch + 1, i + 1, running_loss / 100))\n",
    "            running_loss = 0.0\n",
    "\n",
    "    import torch.nn.functional as F\n",
    "\n",
    "    # Set the model to evaluation mode\n",
    "    model.eval()\n",
    "\n",
    "    # Calculate the MSE for the validation set\n",
    "    val_loss = 0\n",
    "    for inputs, labels in train_dataloader:\n",
    "        inputs = inputs.double() # convert inputs to double precision\n",
    "        labels = labels.double() # convert labels to double precision\n",
    "        \n",
    "        outputs = model(inputs)\n",
    "\n",
    "        # Reshape the target tensor if necessary\n",
    "        if labels.shape != outputs.shape:\n",
    "            labels = labels.view(-1, 1)\n",
    "        loss = F.mse_loss(outputs, labels)\n",
    "        val_loss += loss.item()\n",
    "\n",
    "    # Calculate the average MSE for the validation set\n",
    "    avg_val_loss = val_loss / len(train_dataloader)\n",
    "    print(\"Validation MSE: \", avg_val_loss)\n"
   ]
  },
  {
   "cell_type": "code",
   "execution_count": null,
   "metadata": {},
   "outputs": [],
   "source": [
    "# Set the model to evaluation mode\n",
    "model.eval()\n",
    "\n",
    "# Create lists to store predictions and true labels\n",
    "preds = []\n",
    "targets = []\n",
    "\n",
    "# Predict on the test set and store predictions and true labels\n",
    "for inputs, labels in train_dataloader:\n",
    "    inputs = inputs.double()\n",
    "    labels = labels.double()\n",
    "    with torch.no_grad():\n",
    "        outputs = model(inputs)\n",
    "    # Reshape the target tensor if necessary\n",
    "    if labels.shape != outputs.shape:\n",
    "        labels = labels.view(-1, 1)\n",
    "    preds.extend(outputs.tolist())\n",
    "    targets.extend(labels.tolist())\n",
    "\n",
    "# Convert the predictions and targets to numpy arrays\n",
    "preds = np.array(preds)\n",
    "targets = np.array(targets)\n",
    "\n",
    "# Print the predictions and targets\n",
    "print(\"Predictions: \", preds)\n",
    "print(\"Targets: \", targets)"
   ]
  },
  {
   "cell_type": "code",
   "execution_count": 194,
   "metadata": {},
   "outputs": [
    {
     "data": {
      "text/plain": [
       "333"
      ]
     },
     "execution_count": 194,
     "metadata": {},
     "output_type": "execute_result"
    }
   ],
   "source": [
    "len(targets)"
   ]
  },
  {
   "cell_type": "code",
   "execution_count": 195,
   "metadata": {},
   "outputs": [
    {
     "data": {
      "image/png": "[encoded data removed]",
      "text/plain": [
       "<Figure size 640x480 with 1 Axes>"
      ]
     },
     "metadata": {},
     "output_type": "display_data"
    }
   ],
   "source": [
    "# Convert the predicted and true labels to NumPy arrays\n",
    "#preds = preds.detach().numpy()\n",
    "#labels = labels.detach().numpy()\n",
    "\n",
    "# Create a scatter plot\n",
    "plt.scatter(preds, targets)\n",
    "plt.xlabel('Predicted Values')\n",
    "plt.ylabel('True Labels')\n",
    "plt.show()"
   ]
  },
  {
   "cell_type": "code",
   "execution_count": 147,
   "metadata": {},
   "outputs": [
    {
     "ename": "RuntimeError",
     "evalue": "expected scalar type Double but found Float",
     "output_type": "error",
     "traceback": [
      "\u001b[0;31m---------------------------------------------------------------------------\u001b[0m",
      "\u001b[0;31mRuntimeError\u001b[0m                              Traceback (most recent call last)",
      "Cell \u001b[0;32mIn[147], line 7\u001b[0m\n\u001b[1;32m      5\u001b[0m \u001b[39mfor\u001b[39;00m i, (inputs, targets) \u001b[39min\u001b[39;00m \u001b[39menumerate\u001b[39m(train_dataloader):\n\u001b[1;32m      6\u001b[0m     optimizer\u001b[39m.\u001b[39mzero_grad()\n\u001b[0;32m----> 7\u001b[0m     outputs \u001b[39m=\u001b[39m model(inputs\u001b[39m.\u001b[39;49mdouble())\n\u001b[1;32m      8\u001b[0m     loss \u001b[39m=\u001b[39m criterion(outputs, targets\u001b[39m.\u001b[39mdouble())\n\u001b[1;32m      9\u001b[0m     loss\u001b[39m.\u001b[39mbackward()\n",
      "File \u001b[0;32m/anaconda/envs/azureml_py38_PT_TF/lib/python3.8/site-packages/torch/nn/modules/module.py:1130\u001b[0m, in \u001b[0;36mModule._call_impl\u001b[0;34m(self, *input, **kwargs)\u001b[0m\n\u001b[1;32m   1126\u001b[0m \u001b[39m# If we don't have any hooks, we want to skip the rest of the logic in\u001b[39;00m\n\u001b[1;32m   1127\u001b[0m \u001b[39m# this function, and just call forward.\u001b[39;00m\n\u001b[1;32m   1128\u001b[0m \u001b[39mif\u001b[39;00m \u001b[39mnot\u001b[39;00m (\u001b[39mself\u001b[39m\u001b[39m.\u001b[39m_backward_hooks \u001b[39mor\u001b[39;00m \u001b[39mself\u001b[39m\u001b[39m.\u001b[39m_forward_hooks \u001b[39mor\u001b[39;00m \u001b[39mself\u001b[39m\u001b[39m.\u001b[39m_forward_pre_hooks \u001b[39mor\u001b[39;00m _global_backward_hooks\n\u001b[1;32m   1129\u001b[0m         \u001b[39mor\u001b[39;00m _global_forward_hooks \u001b[39mor\u001b[39;00m _global_forward_pre_hooks):\n\u001b[0;32m-> 1130\u001b[0m     \u001b[39mreturn\u001b[39;00m forward_call(\u001b[39m*\u001b[39;49m\u001b[39minput\u001b[39;49m, \u001b[39m*\u001b[39;49m\u001b[39m*\u001b[39;49mkwargs)\n\u001b[1;32m   1131\u001b[0m \u001b[39m# Do not call functions when jit is used\u001b[39;00m\n\u001b[1;32m   1132\u001b[0m full_backward_hooks, non_full_backward_hooks \u001b[39m=\u001b[39m [], []\n",
      "Cell \u001b[0;32mIn[145], line 27\u001b[0m, in \u001b[0;36mMyModel.forward\u001b[0;34m(self, x)\u001b[0m\n\u001b[1;32m     25\u001b[0m x \u001b[39m=\u001b[39m x\u001b[39m.\u001b[39mdouble() \u001b[39m# convert input tensor to double precision\u001b[39;00m\n\u001b[1;32m     26\u001b[0m x \u001b[39m=\u001b[39m x\u001b[39m.\u001b[39mpermute(\u001b[39m0\u001b[39m, \u001b[39m2\u001b[39m, \u001b[39m1\u001b[39m) \u001b[39m# transpose input tensor to shape (batch_size, num_channels, seq_length)\u001b[39;00m\n\u001b[0;32m---> 27\u001b[0m x \u001b[39m=\u001b[39m \u001b[39mself\u001b[39;49m\u001b[39m.\u001b[39;49mconv1(x)\n\u001b[1;32m     28\u001b[0m x \u001b[39m=\u001b[39m \u001b[39mself\u001b[39m\u001b[39m.\u001b[39mbn1(x)\n\u001b[1;32m     29\u001b[0m x \u001b[39m=\u001b[39m \u001b[39mself\u001b[39m\u001b[39m.\u001b[39mrelu(x)\n",
      "File \u001b[0;32m/anaconda/envs/azureml_py38_PT_TF/lib/python3.8/site-packages/torch/nn/modules/module.py:1130\u001b[0m, in \u001b[0;36mModule._call_impl\u001b[0;34m(self, *input, **kwargs)\u001b[0m\n\u001b[1;32m   1126\u001b[0m \u001b[39m# If we don't have any hooks, we want to skip the rest of the logic in\u001b[39;00m\n\u001b[1;32m   1127\u001b[0m \u001b[39m# this function, and just call forward.\u001b[39;00m\n\u001b[1;32m   1128\u001b[0m \u001b[39mif\u001b[39;00m \u001b[39mnot\u001b[39;00m (\u001b[39mself\u001b[39m\u001b[39m.\u001b[39m_backward_hooks \u001b[39mor\u001b[39;00m \u001b[39mself\u001b[39m\u001b[39m.\u001b[39m_forward_hooks \u001b[39mor\u001b[39;00m \u001b[39mself\u001b[39m\u001b[39m.\u001b[39m_forward_pre_hooks \u001b[39mor\u001b[39;00m _global_backward_hooks\n\u001b[1;32m   1129\u001b[0m         \u001b[39mor\u001b[39;00m _global_forward_hooks \u001b[39mor\u001b[39;00m _global_forward_pre_hooks):\n\u001b[0;32m-> 1130\u001b[0m     \u001b[39mreturn\u001b[39;00m forward_call(\u001b[39m*\u001b[39;49m\u001b[39minput\u001b[39;49m, \u001b[39m*\u001b[39;49m\u001b[39m*\u001b[39;49mkwargs)\n\u001b[1;32m   1131\u001b[0m \u001b[39m# Do not call functions when jit is used\u001b[39;00m\n\u001b[1;32m   1132\u001b[0m full_backward_hooks, non_full_backward_hooks \u001b[39m=\u001b[39m [], []\n",
      "File \u001b[0;32m/anaconda/envs/azureml_py38_PT_TF/lib/python3.8/site-packages/torch/nn/modules/conv.py:307\u001b[0m, in \u001b[0;36mConv1d.forward\u001b[0;34m(self, input)\u001b[0m\n\u001b[1;32m    306\u001b[0m \u001b[39mdef\u001b[39;00m \u001b[39mforward\u001b[39m(\u001b[39mself\u001b[39m, \u001b[39minput\u001b[39m: Tensor) \u001b[39m-\u001b[39m\u001b[39m>\u001b[39m Tensor:\n\u001b[0;32m--> 307\u001b[0m     \u001b[39mreturn\u001b[39;00m \u001b[39mself\u001b[39;49m\u001b[39m.\u001b[39;49m_conv_forward(\u001b[39minput\u001b[39;49m, \u001b[39mself\u001b[39;49m\u001b[39m.\u001b[39;49mweight, \u001b[39mself\u001b[39;49m\u001b[39m.\u001b[39;49mbias)\n",
      "File \u001b[0;32m/anaconda/envs/azureml_py38_PT_TF/lib/python3.8/site-packages/torch/nn/modules/conv.py:303\u001b[0m, in \u001b[0;36mConv1d._conv_forward\u001b[0;34m(self, input, weight, bias)\u001b[0m\n\u001b[1;32m    299\u001b[0m \u001b[39mif\u001b[39;00m \u001b[39mself\u001b[39m\u001b[39m.\u001b[39mpadding_mode \u001b[39m!=\u001b[39m \u001b[39m'\u001b[39m\u001b[39mzeros\u001b[39m\u001b[39m'\u001b[39m:\n\u001b[1;32m    300\u001b[0m     \u001b[39mreturn\u001b[39;00m F\u001b[39m.\u001b[39mconv1d(F\u001b[39m.\u001b[39mpad(\u001b[39minput\u001b[39m, \u001b[39mself\u001b[39m\u001b[39m.\u001b[39m_reversed_padding_repeated_twice, mode\u001b[39m=\u001b[39m\u001b[39mself\u001b[39m\u001b[39m.\u001b[39mpadding_mode),\n\u001b[1;32m    301\u001b[0m                     weight, bias, \u001b[39mself\u001b[39m\u001b[39m.\u001b[39mstride,\n\u001b[1;32m    302\u001b[0m                     _single(\u001b[39m0\u001b[39m), \u001b[39mself\u001b[39m\u001b[39m.\u001b[39mdilation, \u001b[39mself\u001b[39m\u001b[39m.\u001b[39mgroups)\n\u001b[0;32m--> 303\u001b[0m \u001b[39mreturn\u001b[39;00m F\u001b[39m.\u001b[39;49mconv1d(\u001b[39minput\u001b[39;49m, weight, bias, \u001b[39mself\u001b[39;49m\u001b[39m.\u001b[39;49mstride,\n\u001b[1;32m    304\u001b[0m                 \u001b[39mself\u001b[39;49m\u001b[39m.\u001b[39;49mpadding, \u001b[39mself\u001b[39;49m\u001b[39m.\u001b[39;49mdilation, \u001b[39mself\u001b[39;49m\u001b[39m.\u001b[39;49mgroups)\n",
      "\u001b[0;31mRuntimeError\u001b[0m: expected scalar type Double but found Float"
     ]
    }
   ],
   "source": [
    "num_epochs = 10\n",
    "\n",
    "for epoch in range(num_epochs):\n",
    "    # training loop\n",
    "    for i, (inputs, targets) in enumerate(train_dataloader):\n",
    "        optimizer.zero_grad()\n",
    "        outputs = model(inputs)\n",
    "        loss = criterion(outputs, targets)\n",
    "        loss.backward()\n",
    "        optimizer.step()\n",
    "\n",
    "    # validation loop\n",
    "    with torch.no_grad():\n",
    "        total_loss = 0\n",
    "        for j, (inputs, targets) in enumerate(train_dataloader):\n",
    "            outputs = model(inputs)\n",
    "            loss = criterion(outputs, targets)\n",
    "            total_loss += loss.item()\n",
    "        val_loss = total_loss / len(train_dataloader)\n",
    "        \n",
    "    print(f\"Epoch {epoch+1} - Train Loss: {loss.item():.4f} - Val Loss: {val_loss:.4f}\")"
   ]
  },
  {
   "cell_type": "code",
   "execution_count": null,
   "metadata": {},
   "outputs": [],
   "source": []
  }
 ],
 "metadata": {
  "kernelspec": {
   "display_name": "azureml_py38_PT_TF",
   "language": "python",
   "name": "python3"
  },
  "language_info": {
   "codemirror_mode": {
    "name": "ipython",
    "version": 3
   },
   "file_extension": ".py",
   "mimetype": "text/x-python",
   "name": "python",
   "nbconvert_exporter": "python",
   "pygments_lexer": "ipython3",
   "version": "3.8.5"
  },
  "orig_nbformat": 4
 },
 "nbformat": 4,
 "nbformat_minor": 2
}
